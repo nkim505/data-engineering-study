{
 "cells": [
  {
   "cell_type": "code",
   "id": "1d07a5c0",
   "metadata": {
    "ExecuteTime": {
     "end_time": "2024-06-29T01:49:25.548462Z",
     "start_time": "2024-06-29T01:49:18.656275Z"
    }
   },
   "source": [
    "import json\n",
    "\n",
    "import pandas as pd"
   ],
   "outputs": [],
   "execution_count": 1
  },
  {
   "cell_type": "code",
   "id": "b92a0ae7",
   "metadata": {
    "ExecuteTime": {
     "end_time": "2024-06-29T01:50:15.323618Z",
     "start_time": "2024-06-29T01:50:13.886892Z"
    }
   },
   "source": [
    "df = pd.read_parquet(\"git_sample.parquet\")"
   ],
   "outputs": [],
   "execution_count": 3
  },
  {
   "cell_type": "code",
   "id": "edf3a6fc",
   "metadata": {
    "ExecuteTime": {
     "end_time": "2024-06-29T01:50:17.275803Z",
     "start_time": "2024-06-29T01:50:17.238584Z"
    }
   },
   "source": [
    "df.head()"
   ],
   "outputs": [
    {
     "data": {
      "text/plain": [
       "        type  public                                            payload  \\\n",
       "0  PushEvent    True  {\"push_id\":10103527018,\"size\":1,\"distinct_size...   \n",
       "1  PushEvent    True  {\"push_id\":10103078746,\"size\":1,\"distinct_size...   \n",
       "2  PushEvent    True  {\"push_id\":10103073644,\"size\":2,\"distinct_size...   \n",
       "3  PushEvent    True  {\"push_id\":10103108020,\"size\":1,\"distinct_size...   \n",
       "4  ForkEvent    True  {\"forkee\":{\"id\":501199702,\"node_id\":\"R_kgDOHd-...   \n",
       "\n",
       "                                                repo  \\\n",
       "0  {'id': 501200637, 'name': 'tzlio/ph', 'url': '...   \n",
       "1  {'id': 465372512, 'name': '2M4U/2m4u', 'url': ...   \n",
       "2  {'id': 367749487, 'name': 'HMacN/gin', 'url': ...   \n",
       "3  {'id': 470199056, 'name': 'fzdwx/sky', 'url': ...   \n",
       "4  {'id': 282803616, 'name': 'ldqk/ldqk', 'url': ...   \n",
       "\n",
       "                                               actor   org  \\\n",
       "0  {'avatar_url': 'https://avatars.githubusercont...  None   \n",
       "1  {'avatar_url': 'https://avatars.githubusercont...  None   \n",
       "2  {'avatar_url': 'https://avatars.githubusercont...  None   \n",
       "3  {'avatar_url': 'https://avatars.githubusercont...  None   \n",
       "4  {'avatar_url': 'https://avatars.githubusercont...  None   \n",
       "\n",
       "                 created_at           id  \\\n",
       "0 2022-06-08 10:59:09+00:00  22224147329   \n",
       "1 2022-06-08 10:10:22+00:00  22223238329   \n",
       "2 2022-06-08 10:09:53+00:00  22223228133   \n",
       "3 2022-06-08 10:13:24+00:00  22223297713   \n",
       "4 2022-06-08 10:18:30+00:00  22223396213   \n",
       "\n",
       "                                          other  \n",
       "0           {\"actor\":{\"display_login\":\"tzlio\"}}  \n",
       "1  {\"actor\":{\"display_login\":\"github-actions\"}}  \n",
       "2           {\"actor\":{\"display_login\":\"HMacN\"}}  \n",
       "3           {\"actor\":{\"display_login\":\"fzdwx\"}}  \n",
       "4          {\"actor\":{\"display_login\":\"eryajf\"}}  "
      ],
      "text/html": [
       "<div>\n",
       "<style scoped>\n",
       "    .dataframe tbody tr th:only-of-type {\n",
       "        vertical-align: middle;\n",
       "    }\n",
       "\n",
       "    .dataframe tbody tr th {\n",
       "        vertical-align: top;\n",
       "    }\n",
       "\n",
       "    .dataframe thead th {\n",
       "        text-align: right;\n",
       "    }\n",
       "</style>\n",
       "<table border=\"1\" class=\"dataframe\">\n",
       "  <thead>\n",
       "    <tr style=\"text-align: right;\">\n",
       "      <th></th>\n",
       "      <th>type</th>\n",
       "      <th>public</th>\n",
       "      <th>payload</th>\n",
       "      <th>repo</th>\n",
       "      <th>actor</th>\n",
       "      <th>org</th>\n",
       "      <th>created_at</th>\n",
       "      <th>id</th>\n",
       "      <th>other</th>\n",
       "    </tr>\n",
       "  </thead>\n",
       "  <tbody>\n",
       "    <tr>\n",
       "      <th>0</th>\n",
       "      <td>PushEvent</td>\n",
       "      <td>True</td>\n",
       "      <td>{\"push_id\":10103527018,\"size\":1,\"distinct_size...</td>\n",
       "      <td>{'id': 501200637, 'name': 'tzlio/ph', 'url': '...</td>\n",
       "      <td>{'avatar_url': 'https://avatars.githubusercont...</td>\n",
       "      <td>None</td>\n",
       "      <td>2022-06-08 10:59:09+00:00</td>\n",
       "      <td>22224147329</td>\n",
       "      <td>{\"actor\":{\"display_login\":\"tzlio\"}}</td>\n",
       "    </tr>\n",
       "    <tr>\n",
       "      <th>1</th>\n",
       "      <td>PushEvent</td>\n",
       "      <td>True</td>\n",
       "      <td>{\"push_id\":10103078746,\"size\":1,\"distinct_size...</td>\n",
       "      <td>{'id': 465372512, 'name': '2M4U/2m4u', 'url': ...</td>\n",
       "      <td>{'avatar_url': 'https://avatars.githubusercont...</td>\n",
       "      <td>None</td>\n",
       "      <td>2022-06-08 10:10:22+00:00</td>\n",
       "      <td>22223238329</td>\n",
       "      <td>{\"actor\":{\"display_login\":\"github-actions\"}}</td>\n",
       "    </tr>\n",
       "    <tr>\n",
       "      <th>2</th>\n",
       "      <td>PushEvent</td>\n",
       "      <td>True</td>\n",
       "      <td>{\"push_id\":10103073644,\"size\":2,\"distinct_size...</td>\n",
       "      <td>{'id': 367749487, 'name': 'HMacN/gin', 'url': ...</td>\n",
       "      <td>{'avatar_url': 'https://avatars.githubusercont...</td>\n",
       "      <td>None</td>\n",
       "      <td>2022-06-08 10:09:53+00:00</td>\n",
       "      <td>22223228133</td>\n",
       "      <td>{\"actor\":{\"display_login\":\"HMacN\"}}</td>\n",
       "    </tr>\n",
       "    <tr>\n",
       "      <th>3</th>\n",
       "      <td>PushEvent</td>\n",
       "      <td>True</td>\n",
       "      <td>{\"push_id\":10103108020,\"size\":1,\"distinct_size...</td>\n",
       "      <td>{'id': 470199056, 'name': 'fzdwx/sky', 'url': ...</td>\n",
       "      <td>{'avatar_url': 'https://avatars.githubusercont...</td>\n",
       "      <td>None</td>\n",
       "      <td>2022-06-08 10:13:24+00:00</td>\n",
       "      <td>22223297713</td>\n",
       "      <td>{\"actor\":{\"display_login\":\"fzdwx\"}}</td>\n",
       "    </tr>\n",
       "    <tr>\n",
       "      <th>4</th>\n",
       "      <td>ForkEvent</td>\n",
       "      <td>True</td>\n",
       "      <td>{\"forkee\":{\"id\":501199702,\"node_id\":\"R_kgDOHd-...</td>\n",
       "      <td>{'id': 282803616, 'name': 'ldqk/ldqk', 'url': ...</td>\n",
       "      <td>{'avatar_url': 'https://avatars.githubusercont...</td>\n",
       "      <td>None</td>\n",
       "      <td>2022-06-08 10:18:30+00:00</td>\n",
       "      <td>22223396213</td>\n",
       "      <td>{\"actor\":{\"display_login\":\"eryajf\"}}</td>\n",
       "    </tr>\n",
       "  </tbody>\n",
       "</table>\n",
       "</div>"
      ]
     },
     "execution_count": 4,
     "metadata": {},
     "output_type": "execute_result"
    }
   ],
   "execution_count": 4
  },
  {
   "cell_type": "code",
   "id": "4b0e0e66",
   "metadata": {
    "ExecuteTime": {
     "end_time": "2024-06-29T01:50:23.817714Z",
     "start_time": "2024-06-29T01:50:20.212300Z"
    }
   },
   "source": [
    "## json loads\n",
    "for col in (\"payload\", \"other\"): ## actor는 이미 되어있음\n",
    "    df[col] = df[col].apply(json.loads)"
   ],
   "outputs": [],
   "execution_count": 5
  },
  {
   "metadata": {
    "ExecuteTime": {
     "end_time": "2024-06-29T01:50:43.177572Z",
     "start_time": "2024-06-29T01:50:43.163525Z"
    }
   },
   "cell_type": "code",
   "source": "df.head()",
   "id": "8a252c53e6fc8c7b",
   "outputs": [
    {
     "data": {
      "text/plain": [
       "        type  public                                            payload  \\\n",
       "0  PushEvent    True  {'push_id': 10103527018, 'size': 1, 'distinct_...   \n",
       "1  PushEvent    True  {'push_id': 10103078746, 'size': 1, 'distinct_...   \n",
       "2  PushEvent    True  {'push_id': 10103073644, 'size': 2, 'distinct_...   \n",
       "3  PushEvent    True  {'push_id': 10103108020, 'size': 1, 'distinct_...   \n",
       "4  ForkEvent    True  {'forkee': {'id': 501199702, 'node_id': 'R_kgD...   \n",
       "\n",
       "                                                repo  \\\n",
       "0  {'id': 501200637, 'name': 'tzlio/ph', 'url': '...   \n",
       "1  {'id': 465372512, 'name': '2M4U/2m4u', 'url': ...   \n",
       "2  {'id': 367749487, 'name': 'HMacN/gin', 'url': ...   \n",
       "3  {'id': 470199056, 'name': 'fzdwx/sky', 'url': ...   \n",
       "4  {'id': 282803616, 'name': 'ldqk/ldqk', 'url': ...   \n",
       "\n",
       "                                               actor   org  \\\n",
       "0  {'avatar_url': 'https://avatars.githubusercont...  None   \n",
       "1  {'avatar_url': 'https://avatars.githubusercont...  None   \n",
       "2  {'avatar_url': 'https://avatars.githubusercont...  None   \n",
       "3  {'avatar_url': 'https://avatars.githubusercont...  None   \n",
       "4  {'avatar_url': 'https://avatars.githubusercont...  None   \n",
       "\n",
       "                 created_at           id  \\\n",
       "0 2022-06-08 10:59:09+00:00  22224147329   \n",
       "1 2022-06-08 10:10:22+00:00  22223238329   \n",
       "2 2022-06-08 10:09:53+00:00  22223228133   \n",
       "3 2022-06-08 10:13:24+00:00  22223297713   \n",
       "4 2022-06-08 10:18:30+00:00  22223396213   \n",
       "\n",
       "                                            other  \n",
       "0           {'actor': {'display_login': 'tzlio'}}  \n",
       "1  {'actor': {'display_login': 'github-actions'}}  \n",
       "2           {'actor': {'display_login': 'HMacN'}}  \n",
       "3           {'actor': {'display_login': 'fzdwx'}}  \n",
       "4          {'actor': {'display_login': 'eryajf'}}  "
      ],
      "text/html": [
       "<div>\n",
       "<style scoped>\n",
       "    .dataframe tbody tr th:only-of-type {\n",
       "        vertical-align: middle;\n",
       "    }\n",
       "\n",
       "    .dataframe tbody tr th {\n",
       "        vertical-align: top;\n",
       "    }\n",
       "\n",
       "    .dataframe thead th {\n",
       "        text-align: right;\n",
       "    }\n",
       "</style>\n",
       "<table border=\"1\" class=\"dataframe\">\n",
       "  <thead>\n",
       "    <tr style=\"text-align: right;\">\n",
       "      <th></th>\n",
       "      <th>type</th>\n",
       "      <th>public</th>\n",
       "      <th>payload</th>\n",
       "      <th>repo</th>\n",
       "      <th>actor</th>\n",
       "      <th>org</th>\n",
       "      <th>created_at</th>\n",
       "      <th>id</th>\n",
       "      <th>other</th>\n",
       "    </tr>\n",
       "  </thead>\n",
       "  <tbody>\n",
       "    <tr>\n",
       "      <th>0</th>\n",
       "      <td>PushEvent</td>\n",
       "      <td>True</td>\n",
       "      <td>{'push_id': 10103527018, 'size': 1, 'distinct_...</td>\n",
       "      <td>{'id': 501200637, 'name': 'tzlio/ph', 'url': '...</td>\n",
       "      <td>{'avatar_url': 'https://avatars.githubusercont...</td>\n",
       "      <td>None</td>\n",
       "      <td>2022-06-08 10:59:09+00:00</td>\n",
       "      <td>22224147329</td>\n",
       "      <td>{'actor': {'display_login': 'tzlio'}}</td>\n",
       "    </tr>\n",
       "    <tr>\n",
       "      <th>1</th>\n",
       "      <td>PushEvent</td>\n",
       "      <td>True</td>\n",
       "      <td>{'push_id': 10103078746, 'size': 1, 'distinct_...</td>\n",
       "      <td>{'id': 465372512, 'name': '2M4U/2m4u', 'url': ...</td>\n",
       "      <td>{'avatar_url': 'https://avatars.githubusercont...</td>\n",
       "      <td>None</td>\n",
       "      <td>2022-06-08 10:10:22+00:00</td>\n",
       "      <td>22223238329</td>\n",
       "      <td>{'actor': {'display_login': 'github-actions'}}</td>\n",
       "    </tr>\n",
       "    <tr>\n",
       "      <th>2</th>\n",
       "      <td>PushEvent</td>\n",
       "      <td>True</td>\n",
       "      <td>{'push_id': 10103073644, 'size': 2, 'distinct_...</td>\n",
       "      <td>{'id': 367749487, 'name': 'HMacN/gin', 'url': ...</td>\n",
       "      <td>{'avatar_url': 'https://avatars.githubusercont...</td>\n",
       "      <td>None</td>\n",
       "      <td>2022-06-08 10:09:53+00:00</td>\n",
       "      <td>22223228133</td>\n",
       "      <td>{'actor': {'display_login': 'HMacN'}}</td>\n",
       "    </tr>\n",
       "    <tr>\n",
       "      <th>3</th>\n",
       "      <td>PushEvent</td>\n",
       "      <td>True</td>\n",
       "      <td>{'push_id': 10103108020, 'size': 1, 'distinct_...</td>\n",
       "      <td>{'id': 470199056, 'name': 'fzdwx/sky', 'url': ...</td>\n",
       "      <td>{'avatar_url': 'https://avatars.githubusercont...</td>\n",
       "      <td>None</td>\n",
       "      <td>2022-06-08 10:13:24+00:00</td>\n",
       "      <td>22223297713</td>\n",
       "      <td>{'actor': {'display_login': 'fzdwx'}}</td>\n",
       "    </tr>\n",
       "    <tr>\n",
       "      <th>4</th>\n",
       "      <td>ForkEvent</td>\n",
       "      <td>True</td>\n",
       "      <td>{'forkee': {'id': 501199702, 'node_id': 'R_kgD...</td>\n",
       "      <td>{'id': 282803616, 'name': 'ldqk/ldqk', 'url': ...</td>\n",
       "      <td>{'avatar_url': 'https://avatars.githubusercont...</td>\n",
       "      <td>None</td>\n",
       "      <td>2022-06-08 10:18:30+00:00</td>\n",
       "      <td>22223396213</td>\n",
       "      <td>{'actor': {'display_login': 'eryajf'}}</td>\n",
       "    </tr>\n",
       "  </tbody>\n",
       "</table>\n",
       "</div>"
      ]
     },
     "execution_count": 6,
     "metadata": {},
     "output_type": "execute_result"
    }
   ],
   "execution_count": 6
  },
  {
   "cell_type": "markdown",
   "id": "7f216fd3",
   "metadata": {},
   "source": [
    "### EDA"
   ]
  },
  {
   "cell_type": "code",
   "execution_count": 5,
   "id": "3a1f1b0b",
   "metadata": {},
   "outputs": [
    {
     "data": {
      "text/plain": [
       "type          0.000000\n",
       "public        0.000000\n",
       "payload       0.000000\n",
       "repo          0.000000\n",
       "actor         0.000000\n",
       "org           0.701165\n",
       "created_at    0.000000\n",
       "id            0.000000\n",
       "other         0.000000\n",
       "dtype: float64"
      ]
     },
     "execution_count": 5,
     "metadata": {},
     "output_type": "execute_result"
    }
   ],
   "source": [
    "df.isna().mean()"
   ]
  },
  {
   "cell_type": "code",
   "id": "ede88556",
   "metadata": {
    "ExecuteTime": {
     "end_time": "2024-06-29T01:51:15.327989Z",
     "start_time": "2024-06-29T01:51:15.315818Z"
    }
   },
   "source": [
    "## 이벤트 종류\n",
    "df[\"type\"].value_counts()"
   ],
   "outputs": [
    {
     "data": {
      "text/plain": [
       "type\n",
       "PushEvent                        70371\n",
       "CreateEvent                      18630\n",
       "PullRequestEvent                 11166\n",
       "IssueCommentEvent                 7795\n",
       "WatchEvent                        6207\n",
       "DeleteEvent                       4398\n",
       "PullRequestReviewEvent            3951\n",
       "IssuesEvent                       3146\n",
       "PullRequestReviewCommentEvent     2498\n",
       "ForkEvent                         2184\n",
       "CommitCommentEvent                 751\n",
       "ReleaseEvent                       733\n",
       "PublicEvent                        492\n",
       "MemberEvent                        384\n",
       "GollumEvent                        294\n",
       "Name: count, dtype: int64"
      ]
     },
     "execution_count": 7,
     "metadata": {},
     "output_type": "execute_result"
    }
   ],
   "execution_count": 7
  },
  {
   "cell_type": "code",
   "id": "4bc61cfc",
   "metadata": {
    "ExecuteTime": {
     "end_time": "2024-06-29T01:51:37.077635Z",
     "start_time": "2024-06-29T01:51:37.070330Z"
    }
   },
   "source": [
    "# no private repos\n",
    "df.public.value_counts()"
   ],
   "outputs": [
    {
     "data": {
      "text/plain": [
       "public\n",
       "True    133000\n",
       "Name: count, dtype: Int64"
      ]
     },
     "execution_count": 8,
     "metadata": {},
     "output_type": "execute_result"
    }
   ],
   "execution_count": 8
  },
  {
   "metadata": {
    "ExecuteTime": {
     "end_time": "2024-06-29T01:52:56.237194Z",
     "start_time": "2024-06-29T01:52:56.209124Z"
    }
   },
   "cell_type": "code",
   "source": "df.loc[df[\"type\"] == \"PushEvent\"].iloc[0]",
   "id": "f1697e4965a0aec2",
   "outputs": [
    {
     "data": {
      "text/plain": [
       "type                                                  PushEvent\n",
       "public                                                     True\n",
       "payload       {'push_id': 10103527018, 'size': 1, 'distinct_...\n",
       "repo          {'id': 501200637, 'name': 'tzlio/ph', 'url': '...\n",
       "actor         {'avatar_url': 'https://avatars.githubusercont...\n",
       "org                                                        None\n",
       "created_at                            2022-06-08 10:59:09+00:00\n",
       "id                                                  22224147329\n",
       "other                     {'actor': {'display_login': 'tzlio'}}\n",
       "Name: 0, dtype: object"
      ]
     },
     "execution_count": 9,
     "metadata": {},
     "output_type": "execute_result"
    }
   ],
   "execution_count": 9
  },
  {
   "cell_type": "code",
   "execution_count": 8,
   "id": "6a0e645a",
   "metadata": {},
   "outputs": [
    {
     "name": "stdout",
     "output_type": "stream",
     "text": [
      "TYPE: PushEvent\n",
      "\n",
      "PUBLIC: True\n",
      "\n",
      "PAYLOAD: {'push_id': 10103527018, 'size': 1, 'distinct_size': 1, 'ref': 'refs/heads/main', 'head': '7004aa5e3263cf89f086ab67df422844b09bae7d', 'before': 'dcd18aa6d3337a99190f406f8a63370406daffee', 'commits': [{'sha': '7004aa5e3263cf89f086ab67df422844b09bae7d', 'author': {'email': 'd2ceb7eec98c76e4e72cb986459d3ec9db1ede11@users.noreply.github.com', 'name': 'tzlio'}, 'message': 'Update PornHub.py', 'distinct': True, 'url': 'https://api.github.com/repos/tzlio/ph/commits/7004aa5e3263cf89f086ab67df422844b09bae7d'}]}\n",
      "\n",
      "REPO: {'id': 501200637, 'name': 'tzlio/ph', 'url': 'https://api.github.com/repos/tzlio/ph'}\n",
      "\n",
      "ACTOR: {'avatar_url': 'https://avatars.githubusercontent.com/u/98939055?', 'gravatar_id': '', 'id': 98939055, 'login': 'tzlio', 'url': 'https://api.github.com/users/tzlio'}\n",
      "\n",
      "ORG: None\n",
      "\n",
      "CREATED_AT: 2022-06-08 10:59:09+00:00\n",
      "\n",
      "ID: 22224147329\n",
      "\n",
      "OTHER: {'actor': {'display_login': 'tzlio'}}\n",
      "\n"
     ]
    }
   ],
   "source": [
    "## Push event example\n",
    "push_example = df.loc[df[\"type\"] == \"PushEvent\"].iloc[0]\n",
    "for k, v in push_example.items():\n",
    "    print(f\"{k.upper()}: {v}\\n\")"
   ]
  },
  {
   "cell_type": "code",
   "execution_count": 9,
   "id": "74be0cbe",
   "metadata": {},
   "outputs": [
    {
     "name": "stdout",
     "output_type": "stream",
     "text": [
      "TYPE: IssuesEvent\n",
      "\n",
      "PUBLIC: True\n",
      "\n",
      "PAYLOAD: {'action': 'opened', 'issue': {'url': 'https://api.github.com/repos/yuk7/ArchWSL/issues/289', 'repository_url': 'https://api.github.com/repos/yuk7/ArchWSL', 'labels_url': 'https://api.github.com/repos/yuk7/ArchWSL/issues/289/labels{/name}', 'comments_url': 'https://api.github.com/repos/yuk7/ArchWSL/issues/289/comments', 'events_url': 'https://api.github.com/repos/yuk7/ArchWSL/issues/289/events', 'html_url': 'https://github.com/yuk7/ArchWSL/issues/289', 'id': 1264522257, 'node_id': 'I_kwDOBrzS0c5LXxQR', 'number': 289, 'title': 'C function `clock_getres` does not return zero for monotonic clock in WSL1', 'user': {'login': 'horror-proton', 'id': 107091537, 'node_id': 'U_kgDOBmIWUQ', 'avatar_url': 'https://avatars.githubusercontent.com/u/107091537?v=4', 'gravatar_id': '', 'url': 'https://api.github.com/users/horror-proton', 'html_url': 'https://github.com/horror-proton', 'followers_url': 'https://api.github.com/users/horror-proton/followers', 'following_url': 'https://api.github.com/users/horror-proton/following{/other_user}', 'gists_url': 'https://api.github.com/users/horror-proton/gists{/gist_id}', 'starred_url': 'https://api.github.com/users/horror-proton/starred{/owner}{/repo}', 'subscriptions_url': 'https://api.github.com/users/horror-proton/subscriptions', 'organizations_url': 'https://api.github.com/users/horror-proton/orgs', 'repos_url': 'https://api.github.com/users/horror-proton/repos', 'events_url': 'https://api.github.com/users/horror-proton/events{/privacy}', 'received_events_url': 'https://api.github.com/users/horror-proton/received_events', 'type': 'User', 'site_admin': False}, 'labels': [], 'state': 'open', 'locked': False, 'assignee': None, 'assignees': [], 'milestone': None, 'comments': 0, 'created_at': '2022-06-08T10:20:35Z', 'updated_at': '2022-06-08T10:20:35Z', 'closed_at': None, 'author_association': 'NONE', 'active_lock_reason': None, 'body': '**Describe the issue**\\r\\nC function `clock_getres` does not return zero for monotonic clock in WSL1.\\r\\n\\r\\n**To Reproduce**\\r\\n- Install ArchWSL as WSL1 and install glibc-linux4 aur package as mentioned in docs; \\r\\n- Write a simple C program trying to get the resolution of monotonic clock with clock_getres function. e.g. \\r\\n  ```c\\r\\n  #include <time.h>\\r\\n  int main() {\\r\\n      struct timespec t;\\r\\n      return clock_getres(CLOCK_MONOTONIC, &t);\\r\\n  }\\r\\n  ```\\r\\n- Compile (with gcc) and run, it returns 38 instead of 0; \\r\\n\\r\\n**Expected behavior**\\r\\nThe function should return 0. \\r\\n\\r\\n**Screenshots**\\r\\nIf applicable, add screenshots to help explain your problem.\\r\\n\\r\\n**Enviroment:**\\r\\n - Windows build number: 10.0.19044.1706\\r\\n - Security Software: nothing but Windows Defender\\r\\n - WSL version 1/2: WSL1\\r\\n - ArchWSL version 22.3.28.0\\r\\n - ArchWSL Installer type zip clean\\r\\n - Launcher version 22020900\\r\\n\\r\\n**Additional context**\\r\\n- glibc-linux4 version: 2.35-2\\r\\n- gcc version: 12.1.0\\r\\n- This may crash python script that use python asio module, ref. [source of cpython](https://github.com/python/cpython/blob/main/Modules/timemodule.c#L325). \\r\\n', 'reactions': {'url': 'https://api.github.com/repos/yuk7/ArchWSL/issues/289/reactions', 'total_count': 0, '+1': 0, '-1': 0, 'laugh': 0, 'hooray': 0, 'confused': 0, 'heart': 0, 'rocket': 0, 'eyes': 0}, 'timeline_url': 'https://api.github.com/repos/yuk7/ArchWSL/issues/289/timeline', 'performed_via_github_app': None, 'state_reason': None}}\n",
      "\n",
      "REPO: {'id': 113038033, 'name': 'yuk7/ArchWSL', 'url': 'https://api.github.com/repos/yuk7/ArchWSL'}\n",
      "\n",
      "ACTOR: {'avatar_url': 'https://avatars.githubusercontent.com/u/107091537?', 'gravatar_id': '', 'id': 107091537, 'login': 'horror-proton', 'url': 'https://api.github.com/users/horror-proton'}\n",
      "\n",
      "ORG: None\n",
      "\n",
      "CREATED_AT: 2022-06-08 10:20:36+00:00\n",
      "\n",
      "ID: 22223437333\n",
      "\n",
      "OTHER: {'actor': {'display_login': 'horror-proton'}}\n",
      "\n"
     ]
    }
   ],
   "source": [
    "## Issue event example\n",
    "issue_example = df.loc[df[\"type\"] == \"IssuesEvent\"].iloc[0]\n",
    "for k, v in issue_example.items():\n",
    "    print(f\"{k.upper()}: {v}\\n\")"
   ]
  },
  {
   "cell_type": "code",
   "execution_count": 10,
   "id": "0b686f30",
   "metadata": {
    "scrolled": true
   },
   "outputs": [
    {
     "name": "stdout",
     "output_type": "stream",
     "text": [
      "TYPE: PullRequestEvent\n",
      "\n",
      "PUBLIC: True\n",
      "\n",
      "PAYLOAD: {'action': 'opened', 'number': 163, 'pull_request': {'url': 'https://api.github.com/repos/ab455/abaas/pulls/163', 'id': 961466952, 'node_id': 'PR_kwDOGFHPq845TtJI', 'html_url': 'https://github.com/ab455/abaas/pull/163', 'diff_url': 'https://github.com/ab455/abaas/pull/163.diff', 'patch_url': 'https://github.com/ab455/abaas/pull/163.patch', 'issue_url': 'https://api.github.com/repos/ab455/abaas/issues/163', 'number': 163, 'state': 'open', 'locked': False, 'title': 'Bump @mdn/yari from 0.4.778 to 1.2.5', 'user': {'login': 'dependabot[bot]', 'id': 49699333, 'node_id': 'MDM6Qm90NDk2OTkzMzM=', 'avatar_url': 'https://avatars.githubusercontent.com/in/29110?v=4', 'gravatar_id': '', 'url': 'https://api.github.com/users/dependabot%5Bbot%5D', 'html_url': 'https://github.com/apps/dependabot', 'followers_url': 'https://api.github.com/users/dependabot%5Bbot%5D/followers', 'following_url': 'https://api.github.com/users/dependabot%5Bbot%5D/following{/other_user}', 'gists_url': 'https://api.github.com/users/dependabot%5Bbot%5D/gists{/gist_id}', 'starred_url': 'https://api.github.com/users/dependabot%5Bbot%5D/starred{/owner}{/repo}', 'subscriptions_url': 'https://api.github.com/users/dependabot%5Bbot%5D/subscriptions', 'organizations_url': 'https://api.github.com/users/dependabot%5Bbot%5D/orgs', 'repos_url': 'https://api.github.com/users/dependabot%5Bbot%5D/repos', 'events_url': 'https://api.github.com/users/dependabot%5Bbot%5D/events{/privacy}', 'received_events_url': 'https://api.github.com/users/dependabot%5Bbot%5D/received_events', 'type': 'Bot', 'site_admin': False}, 'body': 'Bumps [@mdn/yari](https://github.com/mdn/yari) from 0.4.778 to 1.2.5.\\n<details>\\n<summary>Commits</summary>\\n<ul>\\n<li><a href=\"https://github.com/mdn/yari/commit/546cb5a7736167f4a805be5089964c703ee630d3\"><code>546cb5a</code></a> refactor(filecheck): convert to typescript (<a href=\"https://github-redirect.dependabot.com/mdn/yari/issues/6387\">#6387</a>)</li>\\n<li><a href=\"https://github.com/mdn/yari/commit/ba5454d2dfb64e3781b6136be02674f2652ae579\"><code>ba5454d</code></a> build(deps-dev): bump jest-resolve from 28.1.0 to 28.1.1 (<a href=\"https://github-redirect.dependabot.com/mdn/yari/issues/6486\">#6486</a>)</li>\\n<li><a href=\"https://github.com/mdn/yari/commit/1870799a9d5d47ae341e9f2ef46f602b92348c2d\"><code>1870799</code></a> build(deps-dev): bump babel-jest from 28.1.0 to 28.1.1 (<a href=\"https://github-redirect.dependabot.com/mdn/yari/issues/6484\">#6484</a>)</li>\\n<li><a href=\"https://github.com/mdn/yari/commit/c9cf14302a02ecf4b3af4766bdf6a22fd649ff4e\"><code>c9cf143</code></a> build(deps-dev): bump <code>@\\u200btypescript-eslint/parser</code> from 5.27.0 to 5.27.1 (<a href=\"https://github-redirect.dependabot.com/mdn/yari/issues/6483\">#6483</a>)</li>\\n<li><a href=\"https://github.com/mdn/yari/commit/455d4759fa94bc1849919232d5dd71d5113f1631\"><code>455d475</code></a> build(deps-dev): bump jest from 28.1.0 to 28.1.1 (<a href=\"https://github-redirect.dependabot.com/mdn/yari/issues/6481\">#6481</a>)</li>\\n<li><a href=\"https://github.com/mdn/yari/commit/1f48ec0664eb8141298b637bf36fb325caa1c511\"><code>1f48ec0</code></a> build(deps-dev): bump webpack-dev-server from 4.9.1 to 4.9.2 (<a href=\"https://github-redirect.dependabot.com/mdn/yari/issues/6485\">#6485</a>)</li>\\n<li><a href=\"https://github.com/mdn/yari/commit/895241337d0f09bb34b75a8d16bd7800128524ce\"><code>8952413</code></a> build(deps-dev): bump browserslist from 4.20.3 to 4.20.4 (<a href=\"https://github-redirect.dependabot.com/mdn/yari/issues/6482\">#6482</a>)</li>\\n<li><a href=\"https://github.com/mdn/yari/commit/46863443de1797f744a68ca4e95424dbff9ac11e\"><code>4686344</code></a> build(deps-dev): bump <code>@\\u200btypescript-eslint/eslint-plugin</code> (<a href=\"https://github-redirect.dependabot.com/mdn/yari/issues/6480\">#6480</a>)</li>\\n<li><a href=\"https://github.com/mdn/yari/commit/5d77b899ad3cb64c4a5fb5104a96031841a1cc57\"><code>5d77b89</code></a> build(deps-dev): bump jest-environment-jsdom from 28.1.0 to 28.1.1 (<a href=\"https://github-redirect.dependabot.com/mdn/yari/issues/6479\">#6479</a>)</li>\\n<li><a href=\"https://github.com/mdn/yari/commit/dfe7b567642f3c7b95135183efaf1eace4fd0bb5\"><code>dfe7b56</code></a> build(deps-dev): bump typescript from 4.7.2 to 4.7.3 (<a href=\"https://github-redirect.dependabot.com/mdn/yari/issues/6473\">#6473</a>)</li>\\n<li>Additional commits viewable in <a href=\"https://github.com/mdn/yari/compare/v0.4.778...v1.2.5\">compare view</a></li>\\n</ul>\\n</details>\\n<br />\\n\\n\\n[![Dependabot compatibility score](https://dependabot-badges.githubapp.com/badges/compatibility_score?dependency-name=@mdn/yari&package-manager=npm_and_yarn&previous-version=0.4.778&new-version=1.2.5)](https://docs.github.com/en/github/managing-security-vulnerabilities/about-dependabot-security-updates#about-compatibility-scores)\\n\\nDependabot will resolve any conflicts with this PR as long as you don\\'t alter it yourself. You can also trigger a rebase manually by commenting `@dependabot rebase`.\\n\\n[//]: # (dependabot-automerge-start)\\n[//]: # (dependabot-automerge-end)\\n\\n---\\n\\n<details>\\n<summary>Dependabot commands and options</summary>\\n<br />\\n\\nYou can trigger Dependabot actions by commenting on this PR:\\n- `@dependabot rebase` will rebase this PR\\n- `@dependabot recreate` will recreate this PR, overwriting any edits that have been made to it\\n- `@dependabot merge` will merge this PR after your CI passes on it\\n- `@dependabot squash and merge` will squash and merge this PR after your CI passes on it\\n- `@dependabot cancel merge` will cancel a previously requested merge and block automerging\\n- `@dependabot reopen` will reopen this PR if it is closed\\n- `@dependabot close` will close this PR and stop Dependabot recreating it. You can achieve the same result by closing it manually\\n- `@dependabot ignore this major version` will close this PR and stop Dependabot creating any more for this major version (unless you reopen the PR or upgrade to it yourself)\\n- `@dependabot ignore this minor version` will close this PR and stop Dependabot creating any more for this minor version (unless you reopen the PR or upgrade to it yourself)\\n- `@dependabot ignore this dependency` will close this PR and stop Dependabot creating any more for this dependency (unless you reopen the PR or upgrade to it yourself)\\n\\n\\n</details>', 'created_at': '2022-06-08T10:22:32Z', 'updated_at': '2022-06-08T10:22:32Z', 'closed_at': None, 'merged_at': None, 'merge_commit_sha': None, 'assignee': None, 'assignees': [], 'requested_reviewers': [], 'requested_teams': [], 'labels': [], 'milestone': None, 'draft': False, 'commits_url': 'https://api.github.com/repos/ab455/abaas/pulls/163/commits', 'review_comments_url': 'https://api.github.com/repos/ab455/abaas/pulls/163/comments', 'review_comment_url': 'https://api.github.com/repos/ab455/abaas/pulls/comments{/number}', 'comments_url': 'https://api.github.com/repos/ab455/abaas/issues/163/comments', 'statuses_url': 'https://api.github.com/repos/ab455/abaas/statuses/955dfa37505168eb1f1f382a1709ed91e34a1c32', 'head': {'label': 'ab455:dependabot/npm_and_yarn/mdn/yari-1.2.5', 'ref': 'dependabot/npm_and_yarn/mdn/yari-1.2.5', 'sha': '955dfa37505168eb1f1f382a1709ed91e34a1c32', 'user': {'login': 'ab455', 'id': 81557268, 'node_id': 'MDQ6VXNlcjgxNTU3MjY4', 'avatar_url': 'https://avatars.githubusercontent.com/u/81557268?v=4', 'gravatar_id': '', 'url': 'https://api.github.com/users/ab455', 'html_url': 'https://github.com/ab455', 'followers_url': 'https://api.github.com/users/ab455/followers', 'following_url': 'https://api.github.com/users/ab455/following{/other_user}', 'gists_url': 'https://api.github.com/users/ab455/gists{/gist_id}', 'starred_url': 'https://api.github.com/users/ab455/starred{/owner}{/repo}', 'subscriptions_url': 'https://api.github.com/users/ab455/subscriptions', 'organizations_url': 'https://api.github.com/users/ab455/orgs', 'repos_url': 'https://api.github.com/users/ab455/repos', 'events_url': 'https://api.github.com/users/ab455/events{/privacy}', 'received_events_url': 'https://api.github.com/users/ab455/received_events', 'type': 'User', 'site_admin': False}, 'repo': {'id': 408014763, 'node_id': 'MDEwOlJlcG9zaXRvcnk0MDgwMTQ3NjM=', 'name': 'abaas', 'full_name': 'ab455/abaas', 'private': False, 'owner': {'login': 'ab455', 'id': 81557268, 'node_id': 'MDQ6VXNlcjgxNTU3MjY4', 'avatar_url': 'https://avatars.githubusercontent.com/u/81557268?v=4', 'gravatar_id': '', 'url': 'https://api.github.com/users/ab455', 'html_url': 'https://github.com/ab455', 'followers_url': 'https://api.github.com/users/ab455/followers', 'following_url': 'https://api.github.com/users/ab455/following{/other_user}', 'gists_url': 'https://api.github.com/users/ab455/gists{/gist_id}', 'starred_url': 'https://api.github.com/users/ab455/starred{/owner}{/repo}', 'subscriptions_url': 'https://api.github.com/users/ab455/subscriptions', 'organizations_url': 'https://api.github.com/users/ab455/orgs', 'repos_url': 'https://api.github.com/users/ab455/repos', 'events_url': 'https://api.github.com/users/ab455/events{/privacy}', 'received_events_url': 'https://api.github.com/users/ab455/received_events', 'type': 'User', 'site_admin': False}, 'html_url': 'https://github.com/ab455/abaas', 'description': None, 'fork': False, 'url': 'https://api.github.com/repos/ab455/abaas', 'forks_url': 'https://api.github.com/repos/ab455/abaas/forks', 'keys_url': 'https://api.github.com/repos/ab455/abaas/keys{/key_id}', 'collaborators_url': 'https://api.github.com/repos/ab455/abaas/collaborators{/collaborator}', 'teams_url': 'https://api.github.com/repos/ab455/abaas/teams', 'hooks_url': 'https://api.github.com/repos/ab455/abaas/hooks', 'issue_events_url': 'https://api.github.com/repos/ab455/abaas/issues/events{/number}', 'events_url': 'https://api.github.com/repos/ab455/abaas/events', 'assignees_url': 'https://api.github.com/repos/ab455/abaas/assignees{/user}', 'branches_url': 'https://api.github.com/repos/ab455/abaas/branches{/branch}', 'tags_url': 'https://api.github.com/repos/ab455/abaas/tags', 'blobs_url': 'https://api.github.com/repos/ab455/abaas/git/blobs{/sha}', 'git_tags_url': 'https://api.github.com/repos/ab455/abaas/git/tags{/sha}', 'git_refs_url': 'https://api.github.com/repos/ab455/abaas/git/refs{/sha}', 'trees_url': 'https://api.github.com/repos/ab455/abaas/git/trees{/sha}', 'statuses_url': 'https://api.github.com/repos/ab455/abaas/statuses/{sha}', 'languages_url': 'https://api.github.com/repos/ab455/abaas/languages', 'stargazers_url': 'https://api.github.com/repos/ab455/abaas/stargazers', 'contributors_url': 'https://api.github.com/repos/ab455/abaas/contributors', 'subscribers_url': 'https://api.github.com/repos/ab455/abaas/subscribers', 'subscription_url': 'https://api.github.com/repos/ab455/abaas/subscription', 'commits_url': 'https://api.github.com/repos/ab455/abaas/commits{/sha}', 'git_commits_url': 'https://api.github.com/repos/ab455/abaas/git/commits{/sha}', 'comments_url': 'https://api.github.com/repos/ab455/abaas/comments{/number}', 'issue_comment_url': 'https://api.github.com/repos/ab455/abaas/issues/comments{/number}', 'contents_url': 'https://api.github.com/repos/ab455/abaas/contents/{+path}', 'compare_url': 'https://api.github.com/repos/ab455/abaas/compare/{base}...{head}', 'merges_url': 'https://api.github.com/repos/ab455/abaas/merges', 'archive_url': 'https://api.github.com/repos/ab455/abaas/{archive_format}{/ref}', 'downloads_url': 'https://api.github.com/repos/ab455/abaas/downloads', 'issues_url': 'https://api.github.com/repos/ab455/abaas/issues{/number}', 'pulls_url': 'https://api.github.com/repos/ab455/abaas/pulls{/number}', 'milestones_url': 'https://api.github.com/repos/ab455/abaas/milestones{/number}', 'notifications_url': 'https://api.github.com/repos/ab455/abaas/notifications{?since,all,participating}', 'labels_url': 'https://api.github.com/repos/ab455/abaas/labels{/name}', 'releases_url': 'https://api.github.com/repos/ab455/abaas/releases{/id}', 'deployments_url': 'https://api.github.com/repos/ab455/abaas/deployments', 'created_at': '2021-09-19T02:39:46Z', 'updated_at': '2021-09-24T11:58:12Z', 'pushed_at': '2022-06-08T10:22:32Z', 'git_url': 'git://github.com/ab455/abaas.git', 'ssh_url': 'git@github.com:ab455/abaas.git', 'clone_url': 'https://github.com/ab455/abaas.git', 'svn_url': 'https://github.com/ab455/abaas', 'homepage': None, 'size': 104201, 'stargazers_count': 0, 'watchers_count': 0, 'language': 'HTML', 'has_issues': True, 'has_projects': True, 'has_downloads': True, 'has_wiki': True, 'has_pages': False, 'forks_count': 0, 'mirror_url': None, 'archived': False, 'disabled': False, 'open_issues_count': 17, 'license': {'key': 'other', 'name': 'Other', 'spdx_id': 'NOASSERTION', 'url': None, 'node_id': 'MDc6TGljZW5zZTA='}, 'allow_forking': True, 'is_template': False, 'topics': [], 'visibility': 'public', 'forks': 0, 'open_issues': 17, 'watchers': 0, 'default_branch': 'main'}}, 'base': {'label': 'ab455:main', 'ref': 'main', 'sha': 'f5c4dad6eb56b251641ebc3361b766a327f705f4', 'user': {'login': 'ab455', 'id': 81557268, 'node_id': 'MDQ6VXNlcjgxNTU3MjY4', 'avatar_url': 'https://avatars.githubusercontent.com/u/81557268?v=4', 'gravatar_id': '', 'url': 'https://api.github.com/users/ab455', 'html_url': 'https://github.com/ab455', 'followers_url': 'https://api.github.com/users/ab455/followers', 'following_url': 'https://api.github.com/users/ab455/following{/other_user}', 'gists_url': 'https://api.github.com/users/ab455/gists{/gist_id}', 'starred_url': 'https://api.github.com/users/ab455/starred{/owner}{/repo}', 'subscriptions_url': 'https://api.github.com/users/ab455/subscriptions', 'organizations_url': 'https://api.github.com/users/ab455/orgs', 'repos_url': 'https://api.github.com/users/ab455/repos', 'events_url': 'https://api.github.com/users/ab455/events{/privacy}', 'received_events_url': 'https://api.github.com/users/ab455/received_events', 'type': 'User', 'site_admin': False}, 'repo': {'id': 408014763, 'node_id': 'MDEwOlJlcG9zaXRvcnk0MDgwMTQ3NjM=', 'name': 'abaas', 'full_name': 'ab455/abaas', 'private': False, 'owner': {'login': 'ab455', 'id': 81557268, 'node_id': 'MDQ6VXNlcjgxNTU3MjY4', 'avatar_url': 'https://avatars.githubusercontent.com/u/81557268?v=4', 'gravatar_id': '', 'url': 'https://api.github.com/users/ab455', 'html_url': 'https://github.com/ab455', 'followers_url': 'https://api.github.com/users/ab455/followers', 'following_url': 'https://api.github.com/users/ab455/following{/other_user}', 'gists_url': 'https://api.github.com/users/ab455/gists{/gist_id}', 'starred_url': 'https://api.github.com/users/ab455/starred{/owner}{/repo}', 'subscriptions_url': 'https://api.github.com/users/ab455/subscriptions', 'organizations_url': 'https://api.github.com/users/ab455/orgs', 'repos_url': 'https://api.github.com/users/ab455/repos', 'events_url': 'https://api.github.com/users/ab455/events{/privacy}', 'received_events_url': 'https://api.github.com/users/ab455/received_events', 'type': 'User', 'site_admin': False}, 'html_url': 'https://github.com/ab455/abaas', 'description': None, 'fork': False, 'url': 'https://api.github.com/repos/ab455/abaas', 'forks_url': 'https://api.github.com/repos/ab455/abaas/forks', 'keys_url': 'https://api.github.com/repos/ab455/abaas/keys{/key_id}', 'collaborators_url': 'https://api.github.com/repos/ab455/abaas/collaborators{/collaborator}', 'teams_url': 'https://api.github.com/repos/ab455/abaas/teams', 'hooks_url': 'https://api.github.com/repos/ab455/abaas/hooks', 'issue_events_url': 'https://api.github.com/repos/ab455/abaas/issues/events{/number}', 'events_url': 'https://api.github.com/repos/ab455/abaas/events', 'assignees_url': 'https://api.github.com/repos/ab455/abaas/assignees{/user}', 'branches_url': 'https://api.github.com/repos/ab455/abaas/branches{/branch}', 'tags_url': 'https://api.github.com/repos/ab455/abaas/tags', 'blobs_url': 'https://api.github.com/repos/ab455/abaas/git/blobs{/sha}', 'git_tags_url': 'https://api.github.com/repos/ab455/abaas/git/tags{/sha}', 'git_refs_url': 'https://api.github.com/repos/ab455/abaas/git/refs{/sha}', 'trees_url': 'https://api.github.com/repos/ab455/abaas/git/trees{/sha}', 'statuses_url': 'https://api.github.com/repos/ab455/abaas/statuses/{sha}', 'languages_url': 'https://api.github.com/repos/ab455/abaas/languages', 'stargazers_url': 'https://api.github.com/repos/ab455/abaas/stargazers', 'contributors_url': 'https://api.github.com/repos/ab455/abaas/contributors', 'subscribers_url': 'https://api.github.com/repos/ab455/abaas/subscribers', 'subscription_url': 'https://api.github.com/repos/ab455/abaas/subscription', 'commits_url': 'https://api.github.com/repos/ab455/abaas/commits{/sha}', 'git_commits_url': 'https://api.github.com/repos/ab455/abaas/git/commits{/sha}', 'comments_url': 'https://api.github.com/repos/ab455/abaas/comments{/number}', 'issue_comment_url': 'https://api.github.com/repos/ab455/abaas/issues/comments{/number}', 'contents_url': 'https://api.github.com/repos/ab455/abaas/contents/{+path}', 'compare_url': 'https://api.github.com/repos/ab455/abaas/compare/{base}...{head}', 'merges_url': 'https://api.github.com/repos/ab455/abaas/merges', 'archive_url': 'https://api.github.com/repos/ab455/abaas/{archive_format}{/ref}', 'downloads_url': 'https://api.github.com/repos/ab455/abaas/downloads', 'issues_url': 'https://api.github.com/repos/ab455/abaas/issues{/number}', 'pulls_url': 'https://api.github.com/repos/ab455/abaas/pulls{/number}', 'milestones_url': 'https://api.github.com/repos/ab455/abaas/milestones{/number}', 'notifications_url': 'https://api.github.com/repos/ab455/abaas/notifications{?since,all,participating}', 'labels_url': 'https://api.github.com/repos/ab455/abaas/labels{/name}', 'releases_url': 'https://api.github.com/repos/ab455/abaas/releases{/id}', 'deployments_url': 'https://api.github.com/repos/ab455/abaas/deployments', 'created_at': '2021-09-19T02:39:46Z', 'updated_at': '2021-09-24T11:58:12Z', 'pushed_at': '2022-06-08T10:22:32Z', 'git_url': 'git://github.com/ab455/abaas.git', 'ssh_url': 'git@github.com:ab455/abaas.git', 'clone_url': 'https://github.com/ab455/abaas.git', 'svn_url': 'https://github.com/ab455/abaas', 'homepage': None, 'size': 104201, 'stargazers_count': 0, 'watchers_count': 0, 'language': 'HTML', 'has_issues': True, 'has_projects': True, 'has_downloads': True, 'has_wiki': True, 'has_pages': False, 'forks_count': 0, 'mirror_url': None, 'archived': False, 'disabled': False, 'open_issues_count': 17, 'license': {'key': 'other', 'name': 'Other', 'spdx_id': 'NOASSERTION', 'url': None, 'node_id': 'MDc6TGljZW5zZTA='}, 'allow_forking': True, 'is_template': False, 'topics': [], 'visibility': 'public', 'forks': 0, 'open_issues': 17, 'watchers': 0, 'default_branch': 'main'}}, '_links': {'self': {'href': 'https://api.github.com/repos/ab455/abaas/pulls/163'}, 'html': {'href': 'https://github.com/ab455/abaas/pull/163'}, 'issue': {'href': 'https://api.github.com/repos/ab455/abaas/issues/163'}, 'comments': {'href': 'https://api.github.com/repos/ab455/abaas/issues/163/comments'}, 'review_comments': {'href': 'https://api.github.com/repos/ab455/abaas/pulls/163/comments'}, 'review_comment': {'href': 'https://api.github.com/repos/ab455/abaas/pulls/comments{/number}'}, 'commits': {'href': 'https://api.github.com/repos/ab455/abaas/pulls/163/commits'}, 'statuses': {'href': 'https://api.github.com/repos/ab455/abaas/statuses/955dfa37505168eb1f1f382a1709ed91e34a1c32'}}, 'author_association': 'CONTRIBUTOR', 'auto_merge': None, 'active_lock_reason': None, 'merged': False, 'mergeable': None, 'rebaseable': None, 'mergeable_state': 'unknown', 'merged_by': None, 'comments': 0, 'review_comments': 0, 'maintainer_can_modify': False, 'commits': 1, 'additions': 645, 'deletions': 463, 'changed_files': 2}}\n",
      "\n",
      "REPO: {'id': 408014763, 'name': 'ab455/abaas', 'url': 'https://api.github.com/repos/ab455/abaas'}\n",
      "\n",
      "ACTOR: {'avatar_url': 'https://avatars.githubusercontent.com/u/49699333?', 'gravatar_id': '', 'id': 49699333, 'login': 'dependabot[bot]', 'url': 'https://api.github.com/users/dependabot[bot]'}\n",
      "\n",
      "ORG: None\n",
      "\n",
      "CREATED_AT: 2022-06-08 10:22:33+00:00\n",
      "\n",
      "ID: 22223475297\n",
      "\n",
      "OTHER: {'actor': {'display_login': 'dependabot'}}\n",
      "\n"
     ]
    }
   ],
   "source": [
    "## PR event example\n",
    "pr_example = df.loc[df[\"type\"] == \"PullRequestEvent\"].iloc[0]\n",
    "for k, v in pr_example.items():\n",
    "    print(f\"{k.upper()}: {v}\\n\")"
   ]
  },
  {
   "cell_type": "code",
   "execution_count": 11,
   "id": "1fc6f661",
   "metadata": {},
   "outputs": [
    {
     "data": {
      "text/plain": [
       "type                                                 WatchEvent\n",
       "public                                                     True\n",
       "payload                                   {'action': 'started'}\n",
       "repo          {'id': 99134486, 'name': 'braintree/sanitize-u...\n",
       "actor         {'avatar_url': 'https://avatars.githubusercont...\n",
       "org           {'avatar_url': 'https://avatars.githubusercont...\n",
       "created_at                            2022-06-08 10:01:15+00:00\n",
       "id                                                  22223052429\n",
       "other                  {'actor': {'display_login': 'Hongbusi'}}\n",
       "Name: 1367, dtype: object"
      ]
     },
     "execution_count": 11,
     "metadata": {},
     "output_type": "execute_result"
    }
   ],
   "source": [
    "df[df.org.notna()].iloc[0]"
   ]
  },
  {
   "cell_type": "code",
   "execution_count": 12,
   "id": "6275c586",
   "metadata": {},
   "outputs": [
    {
     "data": {
      "text/plain": [
       "<Axes: xlabel='created_at'>"
      ]
     },
     "execution_count": 12,
     "metadata": {},
     "output_type": "execute_result"
    },
    {
     "data": {
      "image/png": "[encoded data removed]",
      "text/plain": [
       "<Figure size 640x480 with 1 Axes>"
      ]
     },
     "metadata": {},
     "output_type": "display_data"
    }
   ],
   "source": [
    "## hourly event count\n",
    "df.created_at.dt.floor(\"H\").value_counts().sort_index().plot()"
   ]
  },
  {
   "cell_type": "markdown",
   "id": "f308cc02",
   "metadata": {},
   "source": [
    "## Scenarios"
   ]
  },
  {
   "cell_type": "markdown",
   "id": "423caced",
   "metadata": {},
   "source": [
    "### Get languages from PRs"
   ]
  },
  {
   "cell_type": "code",
   "execution_count": 13,
   "id": "07d16990",
   "metadata": {},
   "outputs": [
    {
     "data": {
      "text/plain": [
       "payload\n",
       "JavaScript          1808\n",
       "TypeScript          1645\n",
       "Python              1067\n",
       "Java                 685\n",
       "HTML                 556\n",
       "Go                   539\n",
       "Ruby                 335\n",
       "C#                   330\n",
       "Rust                 301\n",
       "C++                  259\n",
       "PHP                  213\n",
       "Vue                  194\n",
       "Shell                186\n",
       "Kotlin               182\n",
       "C                    134\n",
       "CSS                  131\n",
       "Jupyter Notebook      83\n",
       "Dockerfile            83\n",
       "HCL                   76\n",
       "SCSS                  72\n",
       "Roff                  63\n",
       "Dart                  57\n",
       "Swift                 54\n",
       "Scala                 54\n",
       "Julia                 52\n",
       "Lua                   32\n",
       "Svelte                25\n",
       "Makefile              25\n",
       "DM                    24\n",
       "Jinja                 24\n",
       "Name: count, dtype: int64"
      ]
     },
     "execution_count": 13,
     "metadata": {},
     "output_type": "execute_result"
    }
   ],
   "source": [
    "languages = df.loc[df[\"type\"] == \"PullRequestEvent\", \"payload\"].str[\"pull_request\"].str[\"head\"].str[\"repo\"].str[\"language\"]\n",
    "languages.value_counts().head(30)"
   ]
  },
  {
   "cell_type": "markdown",
   "id": "23a55721",
   "metadata": {},
   "source": [
    "### Top stars"
   ]
  },
  {
   "cell_type": "code",
   "execution_count": 14,
   "id": "6ca46386",
   "metadata": {},
   "outputs": [],
   "source": [
    "df_star = df[df[\"type\"] == \"WatchEvent\"]"
   ]
  },
  {
   "cell_type": "code",
   "execution_count": 15,
   "id": "df15caed",
   "metadata": {},
   "outputs": [
    {
     "data": {
      "text/plain": [
       "payload\n",
       "started    6207\n",
       "Name: count, dtype: int64"
      ]
     },
     "execution_count": 15,
     "metadata": {},
     "output_type": "execute_result"
    }
   ],
   "source": [
    "df_star.payload.str[\"action\"].value_counts() ## 나중에 더 뒤져보면 ended가 있을 수도"
   ]
  },
  {
   "cell_type": "code",
   "execution_count": 16,
   "id": "e634a204",
   "metadata": {},
   "outputs": [],
   "source": [
    "top_star_repos = df_star.repo.str[\"id\"].value_counts()"
   ]
  },
  {
   "cell_type": "code",
   "execution_count": 17,
   "id": "5e31663f",
   "metadata": {},
   "outputs": [
    {
     "data": {
      "text/plain": [
       "repo\n",
       "borisdayma/dalle-mini          14\n",
       "PlasmoHQ/plasmo                13\n",
       "digitalocean/nginxconfig.io    12\n",
       "jina-ai/dalle-flow             12\n",
       "Lissy93/dashy                  11\n",
       "Name: count, dtype: int64"
      ]
     },
     "execution_count": 17,
     "metadata": {},
     "output_type": "execute_result"
    }
   ],
   "source": [
    "df_star.loc[df_star.repo.str[\"id\"].isin(top_star_repos.index[:5]), \"repo\"].str[\"name\"].value_counts()"
   ]
  },
  {
   "cell_type": "markdown",
   "id": "1bfe460d",
   "metadata": {},
   "source": [
    "### Issue text"
   ]
  },
  {
   "cell_type": "code",
   "execution_count": 18,
   "id": "4273342a",
   "metadata": {},
   "outputs": [],
   "source": [
    "issue_payload = df.loc[df[\"type\"] == \"IssuesEvent\", \"payload\"]\n",
    "issue_title = issue_payload.str[\"issue\"].str[\"title\"]\n",
    "issue_body = issue_payload.str[\"issue\"].str[\"body\"]\n",
    "\n",
    "issue_text = pd.concat([issue_title, issue_body], axis=1)\n",
    "issue_text.columns = [\"title\", \"body\"]"
   ]
  },
  {
   "cell_type": "code",
   "execution_count": 19,
   "id": "bec326f2",
   "metadata": {},
   "outputs": [
    {
     "data": {
      "text/html": [
       "<div>\n",
       "<style scoped>\n",
       "    .dataframe tbody tr th:only-of-type {\n",
       "        vertical-align: middle;\n",
       "    }\n",
       "\n",
       "    .dataframe tbody tr th {\n",
       "        vertical-align: top;\n",
       "    }\n",
       "\n",
       "    .dataframe thead th {\n",
       "        text-align: right;\n",
       "    }\n",
       "</style>\n",
       "<table border=\"1\" class=\"dataframe\">\n",
       "  <thead>\n",
       "    <tr style=\"text-align: right;\">\n",
       "      <th></th>\n",
       "      <th>title</th>\n",
       "      <th>body</th>\n",
       "    </tr>\n",
       "  </thead>\n",
       "  <tbody>\n",
       "    <tr>\n",
       "      <th>60</th>\n",
       "      <td>C function `clock_getres` does not return zero...</td>\n",
       "      <td>**Describe the issue**\\r\\nC function `clock_ge...</td>\n",
       "    </tr>\n",
       "    <tr>\n",
       "      <th>125</th>\n",
       "      <td>🛑 Etruria, 37 is down</td>\n",
       "      <td>In [`e32cdab`](https://github.com/javisu/monit...</td>\n",
       "    </tr>\n",
       "    <tr>\n",
       "      <th>161</th>\n",
       "      <td>BIRR_07</td>\n",
       "      <td>Ver: https://github.com/eflipe/python-exercise...</td>\n",
       "    </tr>\n",
       "    <tr>\n",
       "      <th>196</th>\n",
       "      <td>Codecov badge gives incorrect percentag</td>\n",
       "      <td>### Description of Bug\\r\\n\\r\\nAs of writing, c...</td>\n",
       "    </tr>\n",
       "    <tr>\n",
       "      <th>207</th>\n",
       "      <td>[Feature]: Add cover art to now playing UI popup</td>\n",
       "      <td>Problem:\\r\\nCover art is not shown on Now Play...</td>\n",
       "    </tr>\n",
       "    <tr>\n",
       "      <th>...</th>\n",
       "      <td>...</td>\n",
       "      <td>...</td>\n",
       "    </tr>\n",
       "    <tr>\n",
       "      <th>132826</th>\n",
       "      <td>Incomplete text from configure-cgroup-driver.md</td>\n",
       "      <td>**This is a Bug Report**\\r\\n\\r\\n&lt;!-- Thanks fo...</td>\n",
       "    </tr>\n",
       "    <tr>\n",
       "      <th>132890</th>\n",
       "      <td>CVE-2019-15666 (Medium) detected in linux-stab...</td>\n",
       "      <td>## CVE-2019-15666 - Medium Severity Vulnerabil...</td>\n",
       "    </tr>\n",
       "    <tr>\n",
       "      <th>132919</th>\n",
       "      <td>archive_request</td>\n",
       "      <td>https://wechatscope.jmsc.hku.hk/api/html?fn=gh...</td>\n",
       "    </tr>\n",
       "    <tr>\n",
       "      <th>132958</th>\n",
       "      <td>work.weixin.qq.com</td>\n",
       "      <td>\\r\\n### Issue URL (Incorrect Blocking)\\r\\n [ht...</td>\n",
       "    </tr>\n",
       "    <tr>\n",
       "      <th>132998</th>\n",
       "      <td>Lower fps when not using shaders , higher fps ...</td>\n",
       "      <td>### Version information\\r\\n\\r\\nsodium-fabric-m...</td>\n",
       "    </tr>\n",
       "  </tbody>\n",
       "</table>\n",
       "<p>3146 rows × 2 columns</p>\n",
       "</div>"
      ],
      "text/plain": [
       "                                                    title  \\\n",
       "60      C function `clock_getres` does not return zero...   \n",
       "125                                 🛑 Etruria, 37 is down   \n",
       "161                                               BIRR_07   \n",
       "196               Codecov badge gives incorrect percentag   \n",
       "207      [Feature]: Add cover art to now playing UI popup   \n",
       "...                                                   ...   \n",
       "132826    Incomplete text from configure-cgroup-driver.md   \n",
       "132890  CVE-2019-15666 (Medium) detected in linux-stab...   \n",
       "132919                                    archive_request   \n",
       "132958                                 work.weixin.qq.com   \n",
       "132998  Lower fps when not using shaders , higher fps ...   \n",
       "\n",
       "                                                     body  \n",
       "60      **Describe the issue**\\r\\nC function `clock_ge...  \n",
       "125     In [`e32cdab`](https://github.com/javisu/monit...  \n",
       "161     Ver: https://github.com/eflipe/python-exercise...  \n",
       "196     ### Description of Bug\\r\\n\\r\\nAs of writing, c...  \n",
       "207     Problem:\\r\\nCover art is not shown on Now Play...  \n",
       "...                                                   ...  \n",
       "132826  **This is a Bug Report**\\r\\n\\r\\n<!-- Thanks fo...  \n",
       "132890  ## CVE-2019-15666 - Medium Severity Vulnerabil...  \n",
       "132919  https://wechatscope.jmsc.hku.hk/api/html?fn=gh...  \n",
       "132958  \\r\\n### Issue URL (Incorrect Blocking)\\r\\n [ht...  \n",
       "132998  ### Version information\\r\\n\\r\\nsodium-fabric-m...  \n",
       "\n",
       "[3146 rows x 2 columns]"
      ]
     },
     "execution_count": 19,
     "metadata": {},
     "output_type": "execute_result"
    }
   ],
   "source": [
    "issue_text ## NLP analysis available afterwards"
   ]
  },
  {
   "cell_type": "markdown",
   "id": "a4790ba2",
   "metadata": {},
   "source": [
    "### Korean issue"
   ]
  },
  {
   "cell_type": "code",
   "execution_count": 20,
   "id": "11ca3d1f",
   "metadata": {},
   "outputs": [],
   "source": [
    "import re\n",
    "\n",
    "# 정규표현식 패턴: 한글 유니코드 범위 (가-힣)\n",
    "korean_pattern = re.compile(r'[가-힣]')"
   ]
  },
  {
   "cell_type": "code",
   "execution_count": 21,
   "id": "0eb59fcb",
   "metadata": {},
   "outputs": [
    {
     "data": {
      "text/html": [
       "<div>\n",
       "<style scoped>\n",
       "    .dataframe tbody tr th:only-of-type {\n",
       "        vertical-align: middle;\n",
       "    }\n",
       "\n",
       "    .dataframe tbody tr th {\n",
       "        vertical-align: top;\n",
       "    }\n",
       "\n",
       "    .dataframe thead th {\n",
       "        text-align: right;\n",
       "    }\n",
       "</style>\n",
       "<table border=\"1\" class=\"dataframe\">\n",
       "  <thead>\n",
       "    <tr style=\"text-align: right;\">\n",
       "      <th></th>\n",
       "      <th>title</th>\n",
       "      <th>body</th>\n",
       "    </tr>\n",
       "  </thead>\n",
       "  <tbody>\n",
       "    <tr>\n",
       "      <th>7063</th>\n",
       "      <td>간단한 Front View 구현</td>\n",
       "      <td>간단한 Front View 구현</td>\n",
       "    </tr>\n",
       "    <tr>\n",
       "      <th>18404</th>\n",
       "      <td>배포</td>\n",
       "      <td>깃헙 페이지에 배포</td>\n",
       "    </tr>\n",
       "    <tr>\n",
       "      <th>40907</th>\n",
       "      <td>버전 관리 정책</td>\n",
       "      <td>패키지 버전, Release 관리</td>\n",
       "    </tr>\n",
       "    <tr>\n",
       "      <th>49020</th>\n",
       "      <td>hits badge의 URL 변경이 필요합니다</td>\n",
       "      <td>안녕하세요 민지님.\\r\\n\\r\\n우연히 제 README.md가 forked 된 것을...</td>\n",
       "    </tr>\n",
       "    <tr>\n",
       "      <th>82034</th>\n",
       "      <td>getComment 주소형식에 따라서 저장이 안되는 문제 문의 드립니다.</td>\n",
       "      <td>안녕하세요. 훌륭한 패키지 만들어 주셔서 감사합니다. \\r\\ngetComment 사...</td>\n",
       "    </tr>\n",
       "    <tr>\n",
       "      <th>82364</th>\n",
       "      <td>Preliminary BOM Logic 변경</td>\n",
       "      <td>단순 json =&gt; List&lt;String&gt; 으로 저장해두긔</td>\n",
       "    </tr>\n",
       "    <tr>\n",
       "      <th>83387</th>\n",
       "      <td>#5 장바구니</td>\n",
       "      <td>장바구니 조회 ,추가, 삭제 기능</td>\n",
       "    </tr>\n",
       "    <tr>\n",
       "      <th>118477</th>\n",
       "      <td>댓글 붙이기</td>\n",
       "      <td>페이스북 댓글로?</td>\n",
       "    </tr>\n",
       "    <tr>\n",
       "      <th>126148</th>\n",
       "      <td>[newStart_week2]프로그래머스</td>\n",
       "      <td>순위검색 - https://programmers.co.kr/learn/courses...</td>\n",
       "    </tr>\n",
       "  </tbody>\n",
       "</table>\n",
       "</div>"
      ],
      "text/plain": [
       "                                           title  \\\n",
       "7063                           간단한 Front View 구현   \n",
       "18404                                         배포   \n",
       "40907                                   버전 관리 정책   \n",
       "49020                  hits badge의 URL 변경이 필요합니다   \n",
       "82034   getComment 주소형식에 따라서 저장이 안되는 문제 문의 드립니다.   \n",
       "82364                  Preliminary BOM Logic 변경    \n",
       "83387                                    #5 장바구니   \n",
       "118477                                    댓글 붙이기   \n",
       "126148                    [newStart_week2]프로그래머스   \n",
       "\n",
       "                                                     body  \n",
       "7063                                    간단한 Front View 구현  \n",
       "18404                                          깃헙 페이지에 배포  \n",
       "40907                                 패키지 버전, Release 관리   \n",
       "49020   안녕하세요 민지님.\\r\\n\\r\\n우연히 제 README.md가 forked 된 것을...  \n",
       "82034   안녕하세요. 훌륭한 패키지 만들어 주셔서 감사합니다. \\r\\ngetComment 사...  \n",
       "82364                    단순 json => List<String> 으로 저장해두긔  \n",
       "83387                                  장바구니 조회 ,추가, 삭제 기능  \n",
       "118477                                          페이스북 댓글로?  \n",
       "126148  순위검색 - https://programmers.co.kr/learn/courses...  "
      ]
     },
     "execution_count": 21,
     "metadata": {},
     "output_type": "execute_result"
    }
   ],
   "source": [
    "issue_text_kr = issue_text[issue_text[\"body\"].str.match(korean_pattern) == True]\n",
    "issue_text_kr"
   ]
  }
 ],
 "metadata": {
  "kernelspec": {
   "display_name": "Python 3 (ipykernel)",
   "language": "python",
   "name": "python3"
  },
  "language_info": {
   "codemirror_mode": {
    "name": "ipython",
    "version": 3
   },
   "file_extension": ".py",
   "mimetype": "text/x-python",
   "name": "python",
   "nbconvert_exporter": "python",
   "pygments_lexer": "ipython3",
   "version": "3.11.7"
  }
 },
 "nbformat": 4,
 "nbformat_minor": 5
}
